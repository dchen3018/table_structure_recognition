{
 "cells": [
  {
   "cell_type": "code",
   "execution_count": 6,
   "id": "0e66328d-3b87-49e3-a6db-aa9700ba1164",
   "metadata": {
    "scrolled": true,
    "tags": []
   },
   "outputs": [
    {
     "name": "stdout",
     "output_type": "stream",
     "text": [
      "Loaded plugins: dkms-build-requires, extras_suggestions, kernel-livepatch,\n",
      "              : langpacks, priorities, update-motd, versionlock\n",
      "https://download.docker.com/linux/centos/2/x86_64/stable/repodata/repomd.xml: [Errno 14] HTTPS Error 404 - Not Found\n",
      "Trying other mirror.\n",
      "neuron                                                   | 2.9 kB     00:00     \n",
      "62 packages excluded due to repository priority protections\n",
      "No packages marked for update\n",
      "Loaded plugins: dkms-build-requires, extras_suggestions, kernel-livepatch,\n",
      "              : langpacks, priorities, update-motd, versionlock\n",
      "https://download.docker.com/linux/centos/2/x86_64/stable/repodata/repomd.xml: [Errno 14] HTTPS Error 404 - Not Found\n",
      "Trying other mirror.\n",
      "neuron                                                   | 2.9 kB     00:00     \n",
      "62 packages excluded due to repository priority protections\n",
      "Resolving Dependencies\n",
      "There are unfinished transactions remaining. You might consider running yum-complete-transaction, or \"yum-complete-transaction --cleanup-only\" and \"yum history redo last\", first to finish them. If those don't work you'll have to try removing/installing packages by hand (maybe package-cleanup can help).\n",
      "--> Running transaction check\n",
      "---> Package poppler-utils.x86_64 0:0.26.5-43.amzn2.1.6 will be installed\n",
      "--> Finished Dependency Resolution\n",
      "\n",
      "Dependencies Resolved\n",
      "\n",
      "================================================================================\n",
      " Package            Arch        Version                   Repository       Size\n",
      "================================================================================\n",
      "Installing:\n",
      " poppler-utils      x86_64      0.26.5-43.amzn2.1.6       amzn2-core      171 k\n",
      "\n",
      "Transaction Summary\n",
      "================================================================================\n",
      "Install  1 Package\n",
      "\n",
      "Total download size: 171 k\n",
      "Installed size: 433 k\n",
      "Downloading packages:\n",
      "poppler-utils-0.26.5-43.amzn2.1.6.x86_64.rpm               | 171 kB   00:00     \n",
      "Running transaction check\n",
      "Running transaction test\n",
      "Transaction test succeeded\n",
      "Running transaction\n",
      "  Installing : poppler-utils-0.26.5-43.amzn2.1.6.x86_64                     1/1 \n",
      "  Verifying  : poppler-utils-0.26.5-43.amzn2.1.6.x86_64                     1/1 \n",
      "\n",
      "Installed:\n",
      "  poppler-utils.x86_64 0:0.26.5-43.amzn2.1.6                                    \n",
      "\n",
      "Complete!\n"
     ]
    }
   ],
   "source": [
    "!sudo yum update -y\n",
    "!sudo yum install -y poppler-utils"
   ]
  },
  {
   "cell_type": "code",
   "execution_count": 1,
   "id": "84520319-8e19-487c-b81d-32032ef63753",
   "metadata": {
    "tags": []
   },
   "outputs": [
    {
     "name": "stdout",
     "output_type": "stream",
     "text": [
      "Collecting pdf2image\n",
      "  Downloading pdf2image-1.17.0-py3-none-any.whl.metadata (6.2 kB)\n",
      "Requirement already satisfied: pillow in /home/ec2-user/anaconda3/envs/pytorch_p310/lib/python3.10/site-packages (from pdf2image) (10.2.0)\n",
      "Downloading pdf2image-1.17.0-py3-none-any.whl (11 kB)\n",
      "Installing collected packages: pdf2image\n",
      "Successfully installed pdf2image-1.17.0\n"
     ]
    }
   ],
   "source": [
    "!pip install pdf2image"
   ]
  },
  {
   "cell_type": "code",
   "execution_count": 1,
   "id": "55a5a538-757f-4d85-9ceb-d034a68c7c37",
   "metadata": {
    "tags": []
   },
   "outputs": [],
   "source": [
    "from pdf2image import convert_from_path"
   ]
  },
  {
   "cell_type": "code",
   "execution_count": 7,
   "id": "91de7372-da7f-4020-acdd-92200d7a7019",
   "metadata": {
    "tags": []
   },
   "outputs": [
    {
     "name": "stdout",
     "output_type": "stream",
     "text": [
      "images_from_path: [<PIL.PpmImagePlugin.PpmImageFile image mode=RGB size=1700x2200 at 0x7FD6767CD7B0>, <PIL.PpmImagePlugin.PpmImageFile image mode=RGB size=1700x2200 at 0x7FD6767CDB70>, <PIL.PpmImagePlugin.PpmImageFile image mode=RGB size=1700x2200 at 0x7FD6765F49D0>, <PIL.PpmImagePlugin.PpmImageFile image mode=RGB size=1700x2200 at 0x7FD6765F49A0>, <PIL.PpmImagePlugin.PpmImageFile image mode=RGB size=1700x2200 at 0x7FD6765F4D30>, <PIL.PpmImagePlugin.PpmImageFile image mode=RGB size=1700x2200 at 0x7FD6765F4FD0>, <PIL.PpmImagePlugin.PpmImageFile image mode=RGB size=1700x2200 at 0x7FD6765F5780>, <PIL.PpmImagePlugin.PpmImageFile image mode=RGB size=1700x2200 at 0x7FD6765F5810>, <PIL.PpmImagePlugin.PpmImageFile image mode=RGB size=1700x2200 at 0x7FD6765F60B0>, <PIL.PpmImagePlugin.PpmImageFile image mode=RGB size=1700x2200 at 0x7FD6765F60E0>, <PIL.PpmImagePlugin.PpmImageFile image mode=RGB size=1700x2200 at 0x7FD6765F6110>, <PIL.PpmImagePlugin.PpmImageFile image mode=RGB size=1700x2200 at 0x7FD6765F6140>, <PIL.PpmImagePlugin.PpmImageFile image mode=RGB size=1700x2200 at 0x7FD6765F6170>, <PIL.PpmImagePlugin.PpmImageFile image mode=RGB size=1700x2200 at 0x7FD6765F61A0>, <PIL.PpmImagePlugin.PpmImageFile image mode=RGB size=1700x2200 at 0x7FD6765F61D0>, <PIL.PpmImagePlugin.PpmImageFile image mode=RGB size=1700x2200 at 0x7FD6765F6200>, <PIL.PpmImagePlugin.PpmImageFile image mode=RGB size=1700x2200 at 0x7FD6765F6230>, <PIL.PpmImagePlugin.PpmImageFile image mode=RGB size=1700x2200 at 0x7FD6765F6260>]\n"
     ]
    }
   ],
   "source": [
    "images_from_path = convert_from_path('../../siemens/sample/Sample for Siemens ChatGpt Credit Report Nanjing Langchi.pdf', output_folder='../../siemens/sample/')\n",
    "\n",
    "print('images_from_path:', images_from_path)"
   ]
  },
  {
   "cell_type": "code",
   "execution_count": 8,
   "id": "bf7c90ec-2ab8-40f8-97df-d06c36b781fd",
   "metadata": {
    "tags": []
   },
   "outputs": [
    {
     "name": "stdout",
     "output_type": "stream",
     "text": [
      "53d98652-70dd-4398-8165-09a11257eb0d-01.ppm\n",
      "53d98652-70dd-4398-8165-09a11257eb0d-02.ppm\n",
      "53d98652-70dd-4398-8165-09a11257eb0d-03.ppm\n",
      "53d98652-70dd-4398-8165-09a11257eb0d-04.ppm\n",
      "53d98652-70dd-4398-8165-09a11257eb0d-05.ppm\n",
      "53d98652-70dd-4398-8165-09a11257eb0d-06.ppm\n",
      "53d98652-70dd-4398-8165-09a11257eb0d-07.ppm\n",
      "53d98652-70dd-4398-8165-09a11257eb0d-08.ppm\n",
      "53d98652-70dd-4398-8165-09a11257eb0d-09.ppm\n",
      "53d98652-70dd-4398-8165-09a11257eb0d-10.ppm\n",
      "53d98652-70dd-4398-8165-09a11257eb0d-11.ppm\n",
      "53d98652-70dd-4398-8165-09a11257eb0d-12.ppm\n",
      "53d98652-70dd-4398-8165-09a11257eb0d-13.ppm\n",
      "53d98652-70dd-4398-8165-09a11257eb0d-14.ppm\n",
      "53d98652-70dd-4398-8165-09a11257eb0d-15.ppm\n",
      "53d98652-70dd-4398-8165-09a11257eb0d-16.ppm\n",
      "53d98652-70dd-4398-8165-09a11257eb0d-17.ppm\n",
      "53d98652-70dd-4398-8165-09a11257eb0d-18.ppm\n",
      "Sample for Siemens ChatGpt Credit Report Nanjing Langchi.pdf\n",
      "SFS+信息提取 (1).png\n"
     ]
    }
   ],
   "source": [
    "!ls ../../siemens/sample/"
   ]
  },
  {
   "cell_type": "code",
   "execution_count": null,
   "id": "ed987b03-d70a-439d-a7c9-ca9d5a2cf31b",
   "metadata": {},
   "outputs": [],
   "source": []
  }
 ],
 "metadata": {
  "kernelspec": {
   "display_name": "conda_pytorch_p310",
   "language": "python",
   "name": "conda_pytorch_p310"
  },
  "language_info": {
   "codemirror_mode": {
    "name": "ipython",
    "version": 3
   },
   "file_extension": ".py",
   "mimetype": "text/x-python",
   "name": "python",
   "nbconvert_exporter": "python",
   "pygments_lexer": "ipython3",
   "version": "3.10.13"
  }
 },
 "nbformat": 4,
 "nbformat_minor": 5
}
