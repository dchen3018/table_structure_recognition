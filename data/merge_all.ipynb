{
 "cells": [
  {
   "cell_type": "code",
   "execution_count": 2,
   "id": "0bff9744-9c68-4d0e-ab53-dc50bb7900fd",
   "metadata": {},
   "outputs": [],
   "source": [
    "import os\n",
    "import shutil\n",
    "from tqdm import tqdm"
   ]
  },
  {
   "cell_type": "code",
   "execution_count": 8,
   "id": "6ef97804-0902-4846-b662-0cc0d4949885",
   "metadata": {},
   "outputs": [],
   "source": [
    "coco_base_dir_1 = 'pubtables-1m/PubTables-1M-Structure-COCO'\n",
    "coco_base_dir_2 = 'FinTabNet.c/FinTabNet.c-Structure-COCO'\n",
    "coco_base_dir_all = 'All-Structure-COCO'"
   ]
  },
  {
   "cell_type": "code",
   "execution_count": 9,
   "id": "329ed238-7340-466c-8336-0d52e22338b6",
   "metadata": {},
   "outputs": [],
   "source": [
    "!cp -r $coco_base_dir_1 $coco_base_dir_all"
   ]
  },
  {
   "cell_type": "code",
   "execution_count": 11,
   "id": "5573c516",
   "metadata": {},
   "outputs": [],
   "source": [
    "!cp -r $coco_base_dir_2/* $coco_base_dir_all"
   ]
  },
  {
   "cell_type": "code",
   "execution_count": null,
   "id": "0e7909db-8ec6-4e0b-aa33-7ac57ab79b77",
   "metadata": {},
   "outputs": [],
   "source": []
  }
 ],
 "metadata": {
  "kernelspec": {
   "display_name": "pytorch",
   "language": "python",
   "name": "python3"
  },
  "language_info": {
   "codemirror_mode": {
    "name": "ipython",
    "version": 3
   },
   "file_extension": ".py",
   "mimetype": "text/x-python",
   "name": "python",
   "nbconvert_exporter": "python",
   "pygments_lexer": "ipython3",
   "version": "3.11.9"
  }
 },
 "nbformat": 4,
 "nbformat_minor": 5
}
